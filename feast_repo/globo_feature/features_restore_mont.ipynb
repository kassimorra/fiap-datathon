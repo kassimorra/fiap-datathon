{
 "cells": [
  {
   "cell_type": "code",
   "execution_count": 1,
   "metadata": {},
   "outputs": [
    {
     "name": "stderr",
     "output_type": "stream",
     "text": [
      "c:\\Users\\felip\\Documents\\Projetos\\fiap-datathon\\.venv\\lib\\site-packages\\feast\\feature_view.py:48: DeprecationWarning: Entity value_type will be mandatory in the next release. Please specify a value_type for entity '__dummy'.\n",
      "  DUMMY_ENTITY = Entity(\n"
     ]
    }
   ],
   "source": [
    "import psycopg2\n",
    "from feast import FeatureStore\n",
    "from datetime import datetime\n",
    "import pandas as pd\n",
    "from _globo import globo, globo_source\n"
   ]
  },
  {
   "cell_type": "code",
   "execution_count": 2,
   "metadata": {},
   "outputs": [],
   "source": [
    "fs = FeatureStore(repo_path='.')"
   ]
  },
  {
   "cell_type": "code",
   "execution_count": 4,
   "metadata": {},
   "outputs": [],
   "source": [
    "schema_sql = \"select userid, timestamphistory as event_timestamp from table_full\""
   ]
  },
  {
   "cell_type": "code",
   "execution_count": 8,
   "metadata": {},
   "outputs": [
    {
     "name": "stderr",
     "output_type": "stream",
     "text": [
      "C:\\Users\\felip\\AppData\\Local\\Temp\\ipykernel_31032\\1293141037.py:14: UserWarning: pandas only supports SQLAlchemy connectable (engine/connection) or database string URI or sqlite3 DBAPI2 connection. Other DBAPI2 objects are not tested. Please consider using SQLAlchemy.\n",
      "  entity_df = pd.read_sql(schema_sql, conn)\n"
     ]
    }
   ],
   "source": [
    "conn = psycopg2.connect(\n",
    "            dbname=\"globo\",\n",
    "            user=\"postgres\",\n",
    "            password=\"admin1234\",\n",
    "            host=\"localhost\",\n",
    "            port=\"5432\"\n",
    "        )\n",
    "\n",
    "# cursor = conn.cursor()\n",
    "# cursor.execute(schema_sql)\n",
    "# result = cursor.fetchall()\n",
    "# columns = [desc[0] for desc in cursor.description]\n",
    "\n",
    "entity_df = pd.read_sql(schema_sql, conn)\n",
    "\n",
    "# cursor.close()\n",
    "conn.close()"
   ]
  },
  {
   "cell_type": "code",
   "execution_count": null,
   "metadata": {},
   "outputs": [],
   "source": [
    "# CREATE INDEX idx_userid ON table_full(userid);\n",
    "# CREATE INDEX idx_timestamphistory ON table_full(timestamphistory);\n",
    "# CREATE INDEX idx_userid_timestamp ON table_full(userid, timestamphistory);\n"
   ]
  },
  {
   "cell_type": "code",
   "execution_count": 9,
   "metadata": {},
   "outputs": [
    {
     "data": {
      "text/html": [
       "<div>\n",
       "<style scoped>\n",
       "    .dataframe tbody tr th:only-of-type {\n",
       "        vertical-align: middle;\n",
       "    }\n",
       "\n",
       "    .dataframe tbody tr th {\n",
       "        vertical-align: top;\n",
       "    }\n",
       "\n",
       "    .dataframe thead th {\n",
       "        text-align: right;\n",
       "    }\n",
       "</style>\n",
       "<table border=\"1\" class=\"dataframe\">\n",
       "  <thead>\n",
       "    <tr style=\"text-align: right;\">\n",
       "      <th></th>\n",
       "      <th>userid</th>\n",
       "      <th>event_timestamp</th>\n",
       "    </tr>\n",
       "  </thead>\n",
       "  <tbody>\n",
       "    <tr>\n",
       "      <th>0</th>\n",
       "      <td>c61a33ab2f25e15dcf2b6ce5a10841449076ac1c2949e1...</td>\n",
       "      <td>2022-07-07 23:41:10.589</td>\n",
       "    </tr>\n",
       "    <tr>\n",
       "      <th>1</th>\n",
       "      <td>cad8a801030c606547bb362d46991f8183d1f2a83e0de7...</td>\n",
       "      <td>2022-07-19 15:49:03.164</td>\n",
       "    </tr>\n",
       "    <tr>\n",
       "      <th>2</th>\n",
       "      <td>ce05f8fa2c1fb8c7566979055f18a06bcc9ca8519e94ac...</td>\n",
       "      <td>2022-07-01 13:09:03.205</td>\n",
       "    </tr>\n",
       "    <tr>\n",
       "      <th>3</th>\n",
       "      <td>f72c9db4b05efb2186985c70bab7dc0b437c65ba577891...</td>\n",
       "      <td>2022-07-18 23:52:36.354</td>\n",
       "    </tr>\n",
       "    <tr>\n",
       "      <th>4</th>\n",
       "      <td>37f4da88de6000af787062533bf9c1c502d43278ed4d6a...</td>\n",
       "      <td>2022-07-27 00:52:36.037</td>\n",
       "    </tr>\n",
       "    <tr>\n",
       "      <th>5</th>\n",
       "      <td>272cf2447610ce682c57ddddaefd07ee330b0fb937c5e7...</td>\n",
       "      <td>2022-08-08 16:19:46.414</td>\n",
       "    </tr>\n",
       "    <tr>\n",
       "      <th>6</th>\n",
       "      <td>e982a07f6f2823ece0f3bf5cee5a01a2eb5b269af5a2be...</td>\n",
       "      <td>2022-07-05 13:15:29.755</td>\n",
       "    </tr>\n",
       "    <tr>\n",
       "      <th>7</th>\n",
       "      <td>1733a41b11d36839c1c61ed1112b827ea0a1ef0981e511...</td>\n",
       "      <td>2022-07-04 14:11:45.481</td>\n",
       "    </tr>\n",
       "    <tr>\n",
       "      <th>8</th>\n",
       "      <td>8cfd43f3487b95cd7b2e209b91164be96e5964db002d90...</td>\n",
       "      <td>2022-07-01 11:51:01.812</td>\n",
       "    </tr>\n",
       "    <tr>\n",
       "      <th>9</th>\n",
       "      <td>3c5e97babafa79563cd3ac45f7d0086828a78adcd31db2...</td>\n",
       "      <td>2022-08-10 10:47:17.000</td>\n",
       "    </tr>\n",
       "  </tbody>\n",
       "</table>\n",
       "</div>"
      ],
      "text/plain": [
       "                                              userid         event_timestamp\n",
       "0  c61a33ab2f25e15dcf2b6ce5a10841449076ac1c2949e1... 2022-07-07 23:41:10.589\n",
       "1  cad8a801030c606547bb362d46991f8183d1f2a83e0de7... 2022-07-19 15:49:03.164\n",
       "2  ce05f8fa2c1fb8c7566979055f18a06bcc9ca8519e94ac... 2022-07-01 13:09:03.205\n",
       "3  f72c9db4b05efb2186985c70bab7dc0b437c65ba577891... 2022-07-18 23:52:36.354\n",
       "4  37f4da88de6000af787062533bf9c1c502d43278ed4d6a... 2022-07-27 00:52:36.037\n",
       "5  272cf2447610ce682c57ddddaefd07ee330b0fb937c5e7... 2022-08-08 16:19:46.414\n",
       "6  e982a07f6f2823ece0f3bf5cee5a01a2eb5b269af5a2be... 2022-07-05 13:15:29.755\n",
       "7  1733a41b11d36839c1c61ed1112b827ea0a1ef0981e511... 2022-07-04 14:11:45.481\n",
       "8  8cfd43f3487b95cd7b2e209b91164be96e5964db002d90... 2022-07-01 11:51:01.812\n",
       "9  3c5e97babafa79563cd3ac45f7d0086828a78adcd31db2... 2022-08-10 10:47:17.000"
      ]
     },
     "execution_count": 9,
     "metadata": {},
     "output_type": "execute_result"
    }
   ],
   "source": [
    "entity_df.head(10)"
   ]
  },
  {
   "cell_type": "code",
   "execution_count": 10,
   "metadata": {},
   "outputs": [],
   "source": [
    "training_df = fs.get_historical_features(\n",
    "    features=[\n",
    "        \"globo_fv:history\",\n",
    "        \"globo_fv:numberofclickshistory\"\n",
    "    ],\n",
    "    entity_df=entity_df\n",
    ").to_df()"
   ]
  }
 ],
 "metadata": {
  "kernelspec": {
   "display_name": ".venv",
   "language": "python",
   "name": "python3"
  },
  "language_info": {
   "codemirror_mode": {
    "name": "ipython",
    "version": 3
   },
   "file_extension": ".py",
   "mimetype": "text/x-python",
   "name": "python",
   "nbconvert_exporter": "python",
   "pygments_lexer": "ipython3",
   "version": "3.10.11"
  }
 },
 "nbformat": 4,
 "nbformat_minor": 2
}
