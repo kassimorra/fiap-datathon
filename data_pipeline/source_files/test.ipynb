{
 "cells": [
  {
   "cell_type": "code",
   "execution_count": 30,
   "metadata": {},
   "outputs": [],
   "source": [
    "import pandas as pd"
   ]
  },
  {
   "cell_type": "code",
   "execution_count": 80,
   "metadata": {},
   "outputs": [],
   "source": [
    "import re\n",
    "\n",
    "# Define a regex pattern for a UUID (hash)\n",
    "uuid_pattern = re.compile(r\"^[0-9a-f]{8}-[0-9a-f]{4}-[0-9a-f]{4}-[0-9a-f]{4}-[0-9a-f]{12}\")\n",
    "link_pattern = re.compile(r\"(http://g1\\.globo\\.com/.*?\\.ghtml)\")\n",
    "\n",
    "rows = []\n",
    "current_row = \"\"\n",
    "\n",
    "with open(\"./itens/mess_file_tmp.csv\", \"r\", encoding=\"utf-8\") as file:\n",
    "    for line in file:\n",
    "        line = line.strip(\"\\n\")\n",
    "        if not line:\n",
    "            continue\n",
    "        if uuid_pattern.match(line):\n",
    "            if current_row:\n",
    "                rows.append(current_row.replace(\"\\n\", \" \"))\n",
    "            current_row = line\n",
    "        else:\n",
    "            current_row += \" \" + line\n",
    "\n",
    "# Append the last row if exists\n",
    "if current_row:\n",
    "    rows.append(current_row.replace(\"\\n\", \" \"))\n"
   ]
  },
  {
   "cell_type": "code",
   "execution_count": 81,
   "metadata": {},
   "outputs": [],
   "source": [
    "rows = rows[1:]"
   ]
  },
  {
   "cell_type": "code",
   "execution_count": 82,
   "metadata": {},
   "outputs": [],
   "source": [
    "data = []"
   ]
  },
  {
   "cell_type": "code",
   "execution_count": 64,
   "metadata": {},
   "outputs": [
    {
     "name": "stdout",
     "output_type": "stream",
     "text": [
      "['13db0ab1-eea2-4603-84c4-f40a876c7400, http://g1.globo.com/am/amazonas/noticia/2022/06/18/caso-bruno-e-dom-3o-suspeito-']\n",
      "1\n",
      "['13db0ab1-eea2-4603-84c4-f40a876c7400', ' http://g1.globo.com/am/amazonas/noticia/2022/06/18/caso-bruno-e-dom-3o-suspeito-']\n",
      "2\n"
     ]
    }
   ],
   "source": [
    "test = []\n",
    "test.append('13db0ab1-eea2-4603-84c4-f40a876c7400, http://g1.globo.com/am/amazonas/noticia/2022/06/18/caso-bruno-e-dom-3o-suspeito-')\n",
    "\n",
    "for row in test:\n",
    "    test_row = row.split(\",\", 1)\n",
    "\n",
    "print(test)\n",
    "print(len(test))\n",
    "print(test_row)\n",
    "print(len(test_row))"
   ]
  },
  {
   "cell_type": "code",
   "execution_count": 88,
   "metadata": {},
   "outputs": [],
   "source": [
    "for row in rows:\n",
    "\n",
    "    parts = row.split(\",\", 4)\n",
    "\n",
    "    uuid, page_url, issued, modified, news_concat = parts\n",
    "\n",
    "    # if len(parts) == 2:\n",
    "    #     uuid, page_url, issued, modified, news_concat = parts\n",
    "    # else:\n",
    "    #     uuid, rest = parts[0], \"\"\n",
    "\n",
    "    # match_link = link_pattern.search(rest)\n",
    "    # if match_link:\n",
    "    #     link = match_link.group(0)\n",
    "    #     rest = rest.replace(link, \"\").strip(\", \")\n",
    "\n",
    "    # data.append([uuid.strip(), link, rest.strip()])\n",
    "\n",
    "    data.append([uuid.strip(), page_url, issued, modified, news_concat.strip()])\n",
    "\n"
   ]
  },
  {
   "cell_type": "code",
   "execution_count": null,
   "metadata": {},
   "outputs": [],
   "source": [
    "df = pd.DataFrame(data, columns=[\"history\", \"page_url\", \"issued\", \"modified\", \"news_concat\"])"
   ]
  },
  {
   "cell_type": "code",
   "execution_count": 37,
   "metadata": {},
   "outputs": [
    {
     "data": {
      "text/html": [
       "<div>\n",
       "<style scoped>\n",
       "    .dataframe tbody tr th:only-of-type {\n",
       "        vertical-align: middle;\n",
       "    }\n",
       "\n",
       "    .dataframe tbody tr th {\n",
       "        vertical-align: top;\n",
       "    }\n",
       "\n",
       "    .dataframe thead th {\n",
       "        text-align: right;\n",
       "    }\n",
       "</style>\n",
       "<table border=\"1\" class=\"dataframe\">\n",
       "  <thead>\n",
       "    <tr style=\"text-align: right;\">\n",
       "      <th></th>\n",
       "      <th>history</th>\n",
       "      <th>Appendend info</th>\n",
       "    </tr>\n",
       "  </thead>\n",
       "  <tbody>\n",
       "    <tr>\n",
       "      <th>0</th>\n",
       "      <td>13db0ab1-eea2-4603-84c4-f40a876c7400</td>\n",
       "      <td>http://g1.globo.com/am/amazonas/noticia/2022/0...</td>\n",
       "    </tr>\n",
       "    <tr>\n",
       "      <th>1</th>\n",
       "      <td>92907b73-5cd3-4184-8d8c-e206aed2bf1c</td>\n",
       "      <td>http://g1.globo.com/pa/santarem-regiao/noticia...</td>\n",
       "    </tr>\n",
       "    <tr>\n",
       "      <th>2</th>\n",
       "      <td>61e07f64-cddf-46f2-b50c-ea0a39c22050</td>\n",
       "      <td>http://g1.globo.com/mundo/noticia/2022/07/08/e...</td>\n",
       "    </tr>\n",
       "    <tr>\n",
       "      <th>3</th>\n",
       "      <td>30e2e6c5-554a-48ed-a35f-6c6691c8ac9b</td>\n",
       "      <td>http://g1.globo.com/politica/noticia/2021/09/0...</td>\n",
       "    </tr>\n",
       "    <tr>\n",
       "      <th>4</th>\n",
       "      <td>9dff71eb-b681-40c7-ac8d-68017ac36675</td>\n",
       "      <td>http://g1.globo.com/politica/noticia/2021/09/1...</td>\n",
       "    </tr>\n",
       "  </tbody>\n",
       "</table>\n",
       "</div>"
      ],
      "text/plain": [
       "                                history  \\\n",
       "0  13db0ab1-eea2-4603-84c4-f40a876c7400   \n",
       "1  92907b73-5cd3-4184-8d8c-e206aed2bf1c   \n",
       "2  61e07f64-cddf-46f2-b50c-ea0a39c22050   \n",
       "3  30e2e6c5-554a-48ed-a35f-6c6691c8ac9b   \n",
       "4  9dff71eb-b681-40c7-ac8d-68017ac36675   \n",
       "\n",
       "                                      Appendend info  \n",
       "0  http://g1.globo.com/am/amazonas/noticia/2022/0...  \n",
       "1  http://g1.globo.com/pa/santarem-regiao/noticia...  \n",
       "2  http://g1.globo.com/mundo/noticia/2022/07/08/e...  \n",
       "3  http://g1.globo.com/politica/noticia/2021/09/0...  \n",
       "4  http://g1.globo.com/politica/noticia/2021/09/1...  "
      ]
     },
     "execution_count": 37,
     "metadata": {},
     "output_type": "execute_result"
    }
   ],
   "source": [
    "df.head()"
   ]
  },
  {
   "cell_type": "code",
   "execution_count": 38,
   "metadata": {},
   "outputs": [],
   "source": [
    "df.to_csv(\"./cleaned_file.csv\", index=False, encoding=\"utf-8\")"
   ]
  }
 ],
 "metadata": {
  "kernelspec": {
   "display_name": ".venv",
   "language": "python",
   "name": "python3"
  },
  "language_info": {
   "codemirror_mode": {
    "name": "ipython",
    "version": 3
   },
   "file_extension": ".py",
   "mimetype": "text/x-python",
   "name": "python",
   "nbconvert_exporter": "python",
   "pygments_lexer": "ipython3",
   "version": "3.10.11"
  }
 },
 "nbformat": 4,
 "nbformat_minor": 2
}
