{
 "cells": [
  {
   "cell_type": "code",
   "execution_count": 2,
   "metadata": {},
   "outputs": [],
   "source": [
    "import pandas as pd"
   ]
  },
  {
   "cell_type": "code",
   "execution_count": 3,
   "metadata": {},
   "outputs": [],
   "source": [
    "df_treino = pd.read_csv('./source_files/files/treino/treino_parte1.csv', delimiter=',')\n",
    "df_treino.drop(columns=['timestampHistory_new'], inplace=True)"
   ]
  },
  {
   "cell_type": "code",
   "execution_count": null,
   "metadata": {},
   "outputs": [
    {
     "data": {
      "text/plain": [
       "100000"
      ]
     },
     "execution_count": 8,
     "metadata": {},
     "output_type": "execute_result"
    }
   ],
   "source": [
    "len(df_treino)"
   ]
  },
  {
   "cell_type": "code",
   "execution_count": null,
   "metadata": {},
   "outputs": [],
   "source": [
    "batch_size = 1000\n",
    "num_batches = len(df_treino) // batch_size + (1 if len(df_treino) % batch_size else 0)"
   ]
  },
  {
   "cell_type": "code",
   "execution_count": null,
   "metadata": {},
   "outputs": [
    {
     "data": {
      "text/plain": [
       "100"
      ]
     },
     "execution_count": 7,
     "metadata": {},
     "output_type": "execute_result"
    }
   ],
   "source": [
    "num_batches"
   ]
  },
  {
   "cell_type": "code",
   "execution_count": 81,
   "metadata": {},
   "outputs": [],
   "source": [
    "user01 = df_treino.at[0, 'userId']\n",
    "df_treino01 = df_treino[df_treino['userId'] == user01]"
   ]
  },
  {
   "cell_type": "markdown",
   "metadata": {},
   "source": [
    "history\n",
    "timestampHistory\n",
    "numberOfClicksHistory\n",
    "timeOnPageHistory\n",
    "scrollPercentageHistory\n",
    "pageVisitsCountHistory"
   ]
  },
  {
   "cell_type": "code",
   "execution_count": null,
   "metadata": {},
   "outputs": [
    {
     "name": "stderr",
     "output_type": "stream",
     "text": [
      "C:\\Users\\felip\\AppData\\Local\\Temp\\ipykernel_17728\\3381283319.py:2: SettingWithCopyWarning: \n",
      "A value is trying to be set on a copy of a slice from a DataFrame.\n",
      "Try using .loc[row_indexer,col_indexer] = value instead\n",
      "\n",
      "See the caveats in the documentation: https://pandas.pydata.org/pandas-docs/stable/user_guide/indexing.html#returning-a-view-versus-a-copy\n",
      "  df_treino01[colums_explode] = df_treino01[colums_explode].apply(lambda col: col.str.split(','))\n"
     ]
    }
   ],
   "source": [
    "colums_explode = [\"history\", \"timestampHistory\", \"numberOfClicksHistory\", \"timeOnPageHistory\", \"scrollPercentageHistory\",\"pageVisitsCountHistory\"]\n",
    "df_treino01[colums_explode] = df_treino01[colums_explode].apply(lambda col: col.str.split(','))"
   ]
  },
  {
   "cell_type": "code",
   "execution_count": 60,
   "metadata": {},
   "outputs": [],
   "source": [
    "df_treino01 = df_treino01.explode(colums_explode)"
   ]
  },
  {
   "cell_type": "code",
   "execution_count": 83,
   "metadata": {},
   "outputs": [
    {
     "data": {
      "text/html": [
       "<div>\n",
       "<style scoped>\n",
       "    .dataframe tbody tr th:only-of-type {\n",
       "        vertical-align: middle;\n",
       "    }\n",
       "\n",
       "    .dataframe tbody tr th {\n",
       "        vertical-align: top;\n",
       "    }\n",
       "\n",
       "    .dataframe thead th {\n",
       "        text-align: right;\n",
       "    }\n",
       "</style>\n",
       "<table border=\"1\" class=\"dataframe\">\n",
       "  <thead>\n",
       "    <tr style=\"text-align: right;\">\n",
       "      <th></th>\n",
       "      <th>userId</th>\n",
       "      <th>userType</th>\n",
       "      <th>historySize</th>\n",
       "      <th>history</th>\n",
       "      <th>timestampHistory</th>\n",
       "      <th>numberOfClicksHistory</th>\n",
       "      <th>timeOnPageHistory</th>\n",
       "      <th>scrollPercentageHistory</th>\n",
       "      <th>pageVisitsCountHistory</th>\n",
       "    </tr>\n",
       "  </thead>\n",
       "  <tbody>\n",
       "    <tr>\n",
       "      <th>0</th>\n",
       "      <td>f98d1132f60d46883ce49583257104d15ce723b3bbda21...</td>\n",
       "      <td>Non-Logged</td>\n",
       "      <td>3</td>\n",
       "      <td>[c8aab885-433d-4e46-8066-479f40ba7fb2,  68d203...</td>\n",
       "      <td>[1657146417045,  1657146605778,  1657146698738]</td>\n",
       "      <td>[76,  38,  41]</td>\n",
       "      <td>[20380,  21184,  35438]</td>\n",
       "      <td>[50.3,  18.18,  16.46]</td>\n",
       "      <td>[2,  1,  1]</td>\n",
       "    </tr>\n",
       "  </tbody>\n",
       "</table>\n",
       "</div>"
      ],
      "text/plain": [
       "                                              userId    userType  historySize  \\\n",
       "0  f98d1132f60d46883ce49583257104d15ce723b3bbda21...  Non-Logged            3   \n",
       "\n",
       "                                             history  \\\n",
       "0  [c8aab885-433d-4e46-8066-479f40ba7fb2,  68d203...   \n",
       "\n",
       "                                  timestampHistory numberOfClicksHistory  \\\n",
       "0  [1657146417045,  1657146605778,  1657146698738]        [76,  38,  41]   \n",
       "\n",
       "         timeOnPageHistory scrollPercentageHistory pageVisitsCountHistory  \n",
       "0  [20380,  21184,  35438]  [50.3,  18.18,  16.46]            [2,  1,  1]  "
      ]
     },
     "execution_count": 83,
     "metadata": {},
     "output_type": "execute_result"
    }
   ],
   "source": [
    "df_treino01"
   ]
  },
  {
   "cell_type": "code",
   "execution_count": 84,
   "metadata": {},
   "outputs": [
    {
     "name": "stdout",
     "output_type": "stream",
     "text": [
      "userId                     f98d1132f60d46883ce49583257104d15ce723b3bbda21...\n",
      "userType                                                          Non-Logged\n",
      "historySize                                                                3\n",
      "history                    [c8aab885-433d-4e46-8066-479f40ba7fb2,  68d203...\n",
      "timestampHistory             [1657146417045,  1657146605778,  1657146698738]\n",
      "numberOfClicksHistory                                         [76,  38,  41]\n",
      "timeOnPageHistory                                    [20380,  21184,  35438]\n",
      "scrollPercentageHistory                               [50.3,  18.18,  16.46]\n",
      "pageVisitsCountHistory                                           [2,  1,  1]\n",
      "Name: 0, dtype: object\n"
     ]
    }
   ],
   "source": [
    "for _, row in df_treino01.iterrows():\n",
    "    print(row)"
   ]
  },
  {
   "cell_type": "code",
   "execution_count": null,
   "metadata": {},
   "outputs": [
    {
     "name": "stdout",
     "output_type": "stream",
     "text": [
      "2025-02-12 22:17:04,593 INFO sqlalchemy.engine.Engine BEGIN (implicit)\n",
      "2025-02-12 22:17:04,593 INFO sqlalchemy.engine.Engine PRAGMA main.table_info(\"TABLE_TRAIN\")\n",
      "2025-02-12 22:17:04,594 INFO sqlalchemy.engine.Engine [raw sql] ()\n",
      "2025-02-12 22:17:04,594 INFO sqlalchemy.engine.Engine COMMIT\n"
     ]
    }
   ],
   "source": [
    "from sqlalchemy import create_engine, Column, Integer, String\n",
    "from sqlalchemy.orm import sessionmaker, declarative_base\n",
    "\n",
    "Base = declarative_base()\n",
    "\n",
    "class TableTrain(Base):\n",
    "    __tablename__ = 'TABLE_TRAIN'\n",
    "    id = Column(Integer, primary_key=True)\n",
    "    USERID = Column(String)\n",
    "    USER_TYPE = Column(String)\n",
    "    HISTORY_SIZE = Column(Integer)\n",
    "    HISTORY = Column(String)\n",
    "    TIME_STAMP_HISTORY = Column(Integer)\n",
    "    NUMBER_OF_CLICKS_HISTORY = Column(Integer)\n",
    "    TIME_ON_PAGE_HISTORY = Column(Integer)\n",
    "    SCROLL_PERCENTAGE_HISTORY = Column(Integer)\n",
    "    PAGE_VISITS_COUNT_HISTORY = Column(Integer)\n",
    "\n",
    "db_path = \"/globo.db\"\n",
    "engine = create_engine(f\"sqlite://{db_path}\", echo=True)\n",
    "\n",
    "Base.metadata.drop_all(engine)\n",
    "Base.metadata.create_all(engine)\n",
    "\n",
    "Session = sessionmaker(bind=engine)\n",
    "session = Session()"
   ]
  },
  {
   "cell_type": "code",
   "execution_count": 67,
   "metadata": {},
   "outputs": [
    {
     "name": "stdout",
     "output_type": "stream",
     "text": [
      "2025-02-12 22:10:21,267 INFO sqlalchemy.engine.Engine BEGIN (implicit)\n",
      "2025-02-12 22:10:21,269 INFO sqlalchemy.engine.Engine INSERT INTO \"TABLE_TRAIN\" (\"USERID\", \"USER_TYPE\", \"HISTORY_SIZE\", \"HISTORY\", \"TIME_STAMP_HISTORY\", \"NUMBER_OF_CLICKS_HISTORY\", \"TIME_ON_PAGE_HISTORY\", \"SCROLL_PERCENTAGE_HISTORY\", \"PAGE_VISITS_COUNT_HISTORY\") VALUES (?, ?, ?, ?, ?, ?, ?, ?, ?) RETURNING id\n",
      "2025-02-12 22:10:21,270 INFO sqlalchemy.engine.Engine [generated in 0.00012s (insertmanyvalues) 1/3 (ordered; batch not supported)] ('f98d1132f60d46883ce49583257104d15ce723b3bbda2147c1e31ac76f0bf069', 'Non-Logged', 3, 'c8aab885-433d-4e46-8066-479f40ba7fb2', '1657146417045', '76', '20380', '50.3', '2')\n",
      "2025-02-12 22:10:21,271 INFO sqlalchemy.engine.Engine INSERT INTO \"TABLE_TRAIN\" (\"USERID\", \"USER_TYPE\", \"HISTORY_SIZE\", \"HISTORY\", \"TIME_STAMP_HISTORY\", \"NUMBER_OF_CLICKS_HISTORY\", \"TIME_ON_PAGE_HISTORY\", \"SCROLL_PERCENTAGE_HISTORY\", \"PAGE_VISITS_COUNT_HISTORY\") VALUES (?, ?, ?, ?, ?, ?, ?, ?, ?) RETURNING id\n",
      "2025-02-12 22:10:21,271 INFO sqlalchemy.engine.Engine [insertmanyvalues 2/3 (ordered; batch not supported)] ('f98d1132f60d46883ce49583257104d15ce723b3bbda2147c1e31ac76f0bf069', 'Non-Logged', 3, ' 68d2039c-c9aa-456c-ac33-9b2e8677fba7', ' 1657146605778', ' 38', ' 21184', ' 18.18', ' 1')\n",
      "2025-02-12 22:10:21,272 INFO sqlalchemy.engine.Engine INSERT INTO \"TABLE_TRAIN\" (\"USERID\", \"USER_TYPE\", \"HISTORY_SIZE\", \"HISTORY\", \"TIME_STAMP_HISTORY\", \"NUMBER_OF_CLICKS_HISTORY\", \"TIME_ON_PAGE_HISTORY\", \"SCROLL_PERCENTAGE_HISTORY\", \"PAGE_VISITS_COUNT_HISTORY\") VALUES (?, ?, ?, ?, ?, ?, ?, ?, ?) RETURNING id\n",
      "2025-02-12 22:10:21,272 INFO sqlalchemy.engine.Engine [insertmanyvalues 3/3 (ordered; batch not supported)] ('f98d1132f60d46883ce49583257104d15ce723b3bbda2147c1e31ac76f0bf069', 'Non-Logged', 3, ' 13e423ce-1d69-4c78-bc18-e8c8f7271964', ' 1657146698738', ' 41', ' 35438', ' 16.46', ' 1')\n",
      "2025-02-12 22:10:21,273 INFO sqlalchemy.engine.Engine COMMIT\n"
     ]
    }
   ],
   "source": [
    "for _, row in df_treino01.iterrows():\n",
    "    new_row = TableTrain(\n",
    "        USERID = row['userId'],\n",
    "        USER_TYPE = row['userType'],\n",
    "        HISTORY_SIZE = row['historySize'],\n",
    "        HISTORY = row['history'],\n",
    "        TIME_STAMP_HISTORY = row['timestampHistory'],\n",
    "        NUMBER_OF_CLICKS_HISTORY = row['numberOfClicksHistory'],\n",
    "        TIME_ON_PAGE_HISTORY = row['timeOnPageHistory'],\n",
    "        SCROLL_PERCENTAGE_HISTORY = row['scrollPercentageHistory'],\n",
    "        PAGE_VISITS_COUNT_HISTORY = row['pageVisitsCountHistory']\n",
    "    )\n",
    "    session.add(new_row)\n",
    "\n",
    "session.commit()"
   ]
  },
  {
   "cell_type": "code",
   "execution_count": 68,
   "metadata": {},
   "outputs": [],
   "source": [
    "from sqlalchemy import select"
   ]
  },
  {
   "cell_type": "code",
   "execution_count": null,
   "metadata": {},
   "outputs": [
    {
     "name": "stdout",
     "output_type": "stream",
     "text": [
      "2025-02-12 22:20:37,523 INFO sqlalchemy.engine.Engine BEGIN (implicit)\n",
      "2025-02-12 22:20:37,523 INFO sqlalchemy.engine.Engine SELECT \"TABLE_TRAIN\".id, \"TABLE_TRAIN\".\"USERID\", \"TABLE_TRAIN\".\"USER_TYPE\", \"TABLE_TRAIN\".\"HISTORY_SIZE\", \"TABLE_TRAIN\".\"HISTORY\", \"TABLE_TRAIN\".\"TIME_STAMP_HISTORY\", \"TABLE_TRAIN\".\"NUMBER_OF_CLICKS_HISTORY\", \"TABLE_TRAIN\".\"TIME_ON_PAGE_HISTORY\", \"TABLE_TRAIN\".\"SCROLL_PERCENTAGE_HISTORY\", \"TABLE_TRAIN\".\"PAGE_VISITS_COUNT_HISTORY\" \n",
      "FROM \"TABLE_TRAIN\"\n",
      "2025-02-12 22:20:37,524 INFO sqlalchemy.engine.Engine [cached since 152.8s ago] ()\n",
      "(1, 'f98d1132f60d46883ce49583257104d15ce723b3bbda2147c1e31ac76f0bf069', 'Non-Logged', 3, 'c8aab885-433d-4e46-8066-479f40ba7fb2', 1657146417045, 76, 20380, 50.3, 2)\n",
      "(2, 'f98d1132f60d46883ce49583257104d15ce723b3bbda2147c1e31ac76f0bf069', 'Non-Logged', 3, ' 68d2039c-c9aa-456c-ac33-9b2e8677fba7', 1657146605778, 38, 21184, 18.18, 1)\n",
      "(3, 'f98d1132f60d46883ce49583257104d15ce723b3bbda2147c1e31ac76f0bf069', 'Non-Logged', 3, ' 13e423ce-1d69-4c78-bc18-e8c8f7271964', 1657146698738, 41, 35438, 16.46, 1)\n",
      "2025-02-12 22:20:37,526 INFO sqlalchemy.engine.Engine ROLLBACK\n"
     ]
    }
   ],
   "source": [
    "stmt = select(TableTrain)\n",
    "with engine.connect() as conn:\n",
    "    for row in conn.execute(stmt):\n",
    "        print(row)"
   ]
  }
 ],
 "metadata": {
  "kernelspec": {
   "display_name": ".venv",
   "language": "python",
   "name": "python3"
  },
  "language_info": {
   "codemirror_mode": {
    "name": "ipython",
    "version": 3
   },
   "file_extension": ".py",
   "mimetype": "text/x-python",
   "name": "python",
   "nbconvert_exporter": "python",
   "pygments_lexer": "ipython3",
   "version": "3.10.11"
  }
 },
 "nbformat": 4,
 "nbformat_minor": 2
}
