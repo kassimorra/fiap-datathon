{
 "cells": [
  {
   "cell_type": "code",
   "execution_count": 1,
   "metadata": {},
   "outputs": [],
   "source": [
    "class ProcessParam:\n",
    "    def __init__(self):\n",
    "        self.path : dict = {\n",
    "            \"train\" : \"./source_files/treino/*.csv\",\n",
    "            \"item\" : \"./source_files/itens/*.csv\"\n",
    "        }\n",
    "        self.batch_size : int = 1000\n",
    "        self._num_batches: int = 0\n",
    "\n",
    "    @property\n",
    "    def num_batches(self) -> int:\n",
    "        return self._num_batches\n",
    "\n",
    "    @num_batches.setter\n",
    "    def num_batches(self, new_value: int) -> None:\n",
    "        self._num_batches = new_value\n",
    "\n"
   ]
  },
  {
   "cell_type": "code",
   "execution_count": 3,
   "metadata": {},
   "outputs": [],
   "source": [
    "teste = ProcessParam()"
   ]
  },
  {
   "cell_type": "code",
   "execution_count": 5,
   "metadata": {},
   "outputs": [],
   "source": [
    "teste.num_batches = 20"
   ]
  },
  {
   "cell_type": "code",
   "execution_count": 6,
   "metadata": {},
   "outputs": [
    {
     "data": {
      "text/plain": [
       "20"
      ]
     },
     "execution_count": 6,
     "metadata": {},
     "output_type": "execute_result"
    }
   ],
   "source": [
    "teste.num_batches"
   ]
  }
 ],
 "metadata": {
  "kernelspec": {
   "display_name": ".venv",
   "language": "python",
   "name": "python3"
  },
  "language_info": {
   "codemirror_mode": {
    "name": "ipython",
    "version": 3
   },
   "file_extension": ".py",
   "mimetype": "text/x-python",
   "name": "python",
   "nbconvert_exporter": "python",
   "pygments_lexer": "ipython3",
   "version": "3.10.11"
  }
 },
 "nbformat": 4,
 "nbformat_minor": 2
}
